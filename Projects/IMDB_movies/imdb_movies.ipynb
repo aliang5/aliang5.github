{
 "cells": [
  {
   "cell_type": "markdown",
   "metadata": {},
   "source": [
    "# Title: Movie Genres classification\n",
    "### Annie Liang\n",
    "### Project 2, CS 6820 Machine Learning\n",
    "\n",
    "## Data Extration\n",
    "The dataset to be used is collected from Internet Movie Database (IMDB) using python scraping codes. The project targeted the movies that were release from year 1960 to 2018. Only movies that were produced in United States were considered. Films that have ambiguous production country names like USA/Canada were cross-checked from Wikipedia films pages and removed appropriately. Genre is the target variable. It represents the type of content that presents in a movie. A movie can have a multiple genre but for the purpose of the project only the first genre label that IMDB listed is collected. The dataset contains 41290 films.\n",
    "\n",
    "Features:\n",
    "* Title\n",
    "* Year: from 1960 to 2018\n",
    "* Director name\n",
    "* Actor1: main actor of the movie\n",
    "* Actor2: second main actor of the movie\n",
    "* Rating: movie rating - ranging from 1 to 10\n",
    "* Country: movie production location. This variable will be omitted in the analysis since only used to filter out non-USA films\n",
    "* Release date\n",
    "* Genre: target features with 20 categorices "
   ]
  },
  {
   "cell_type": "code",
   "execution_count": 1,
   "metadata": {},
   "outputs": [],
   "source": [
    "%matplotlib inline\n",
    "\n",
    "import matplotlib\n",
    "import matplotlib.pyplot as plt\n",
    "import numpy as np\n",
    "import pandas as pd\n",
    "import bokeh as bk\n"
   ]
  },
  {
   "cell_type": "code",
   "execution_count": 2,
   "metadata": {},
   "outputs": [],
   "source": [
    "imdb = pd.read_csv('out3.csv')"
   ]
  },
  {
   "cell_type": "code",
   "execution_count": 3,
   "metadata": {},
   "outputs": [
    {
     "data": {
      "text/html": [
       "<div>\n",
       "<style scoped>\n",
       "    .dataframe tbody tr th:only-of-type {\n",
       "        vertical-align: middle;\n",
       "    }\n",
       "\n",
       "    .dataframe tbody tr th {\n",
       "        vertical-align: top;\n",
       "    }\n",
       "\n",
       "    .dataframe thead th {\n",
       "        text-align: right;\n",
       "    }\n",
       "</style>\n",
       "<table border=\"1\" class=\"dataframe\">\n",
       "  <thead>\n",
       "    <tr style=\"text-align: right;\">\n",
       "      <th></th>\n",
       "      <th>title director actor1 actor2</th>\n",
       "      <th>genre</th>\n",
       "      <th>year</th>\n",
       "      <th>rating</th>\n",
       "      <th>releasedate</th>\n",
       "    </tr>\n",
       "  </thead>\n",
       "  <tbody>\n",
       "    <tr>\n",
       "      <th>0</th>\n",
       "      <td>Kate &amp; Leopold JamesMangold MegRyan HughJackman</td>\n",
       "      <td>Comedy</td>\n",
       "      <td>2001</td>\n",
       "      <td>6.4</td>\n",
       "      <td>12 25 2001</td>\n",
       "    </tr>\n",
       "    <tr>\n",
       "      <th>1</th>\n",
       "      <td>December 7th: The Movie GreggToland WalterHust...</td>\n",
       "      <td>Action</td>\n",
       "      <td>2017</td>\n",
       "      <td>6.2</td>\n",
       "      <td>1943</td>\n",
       "    </tr>\n",
       "    <tr>\n",
       "      <th>2</th>\n",
       "      <td>The Dungeon of Harrow PatBoyette RussHarvey He...</td>\n",
       "      <td>Horror</td>\n",
       "      <td>1962</td>\n",
       "      <td>3.2</td>\n",
       "      <td>12 31 1964</td>\n",
       "    </tr>\n",
       "    <tr>\n",
       "      <th>3</th>\n",
       "      <td>Devil's Partner CharlesR.Rondeau EdgarBuchanan...</td>\n",
       "      <td>Horror</td>\n",
       "      <td>1961</td>\n",
       "      <td>4.9</td>\n",
       "      <td>9 1 1961</td>\n",
       "    </tr>\n",
       "    <tr>\n",
       "      <th>4</th>\n",
       "      <td>War Is Hell BurtTopper BaynesBarron MichaelBell</td>\n",
       "      <td>Drama</td>\n",
       "      <td>1961</td>\n",
       "      <td>6.4</td>\n",
       "      <td>10 23 1963</td>\n",
       "    </tr>\n",
       "  </tbody>\n",
       "</table>\n",
       "</div>"
      ],
      "text/plain": [
       "                        title director actor1 actor2   genre  year  rating  \\\n",
       "0    Kate & Leopold JamesMangold MegRyan HughJackman  Comedy  2001     6.4   \n",
       "1  December 7th: The Movie GreggToland WalterHust...  Action  2017     6.2   \n",
       "2  The Dungeon of Harrow PatBoyette RussHarvey He...  Horror  1962     3.2   \n",
       "3  Devil's Partner CharlesR.Rondeau EdgarBuchanan...  Horror  1961     4.9   \n",
       "4    War Is Hell BurtTopper BaynesBarron MichaelBell   Drama  1961     6.4   \n",
       "\n",
       "  releasedate  \n",
       "0  12 25 2001  \n",
       "1        1943  \n",
       "2  12 31 1964  \n",
       "3    9 1 1961  \n",
       "4  10 23 1963  "
      ]
     },
     "execution_count": 3,
     "metadata": {},
     "output_type": "execute_result"
    }
   ],
   "source": [
    "imdb.head()"
   ]
  },
  {
   "cell_type": "markdown",
   "metadata": {},
   "source": [
    "## Quick Data Visualization of the dataset"
   ]
  },
  {
   "cell_type": "code",
   "execution_count": 4,
   "metadata": {},
   "outputs": [
    {
     "data": {
      "text/plain": [
       "<matplotlib.axes._subplots.AxesSubplot at 0x1a0be664e0>"
      ]
     },
     "execution_count": 4,
     "metadata": {},
     "output_type": "execute_result"
    },
    {
     "data": {
      "image/png": "[encoded data removed]",
      "text/plain": [
       "<matplotlib.figure.Figure at 0x1a0bd7df28>"
      ]
     },
     "metadata": {},
     "output_type": "display_data"
    }
   ],
   "source": [
    "import seaborn as sns\n",
    "sns.set(style=\"whitegrid\", color_codes=True)\n",
    "sns.stripplot(x=\"year\",y=\"genre\", data=imdb)"
   ]
  },
  {
   "cell_type": "code",
   "execution_count": 5,
   "metadata": {},
   "outputs": [
    {
     "data": {
      "text/plain": [
       "<matplotlib.axes._subplots.AxesSubplot at 0x1a0c0d8358>"
      ]
     },
     "execution_count": 5,
     "metadata": {},
     "output_type": "execute_result"
    },
    {
     "data": {
      "image/png": "[encoded data removed]",
      "text/plain": [
       "<matplotlib.figure.Figure at 0x1a0c0e4f28>"
      ]
     },
     "metadata": {},
     "output_type": "display_data"
    }
   ],
   "source": [
    "import seaborn as sns\n",
    "sns.set(style=\"whitegrid\", color_codes=True)\n",
    "sns.stripplot(x=\"rating\",y=\"genre\", data=imdb)"
   ]
  },
  {
   "cell_type": "markdown",
   "metadata": {},
   "source": [
    "## Dataset Prepration for the model"
   ]
  },
  {
   "cell_type": "code",
   "execution_count": 6,
   "metadata": {},
   "outputs": [],
   "source": [
    "imdb[\"genre\"]=imdb[\"genre\"].map({\n",
    "'Action': 4,\n",
    " 'Adult': 8,\n",
    " 'Adventure': 1,\n",
    " 'Animation': 14,\n",
    " 'Biography': 9,\n",
    " 'Comedy': 0,\n",
    " 'Crime': 3,\n",
    " 'Documentary': 6,\n",
    " 'Drama': 5,\n",
    " 'Family': 12,\n",
    " 'Fantasy': 11,\n",
    " 'History': 18,\n",
    " 'Horror': 2,\n",
    " 'Musical': 19,\n",
    " 'Mystery': 16,\n",
    " 'Romance': 17,\n",
    " 'Sci-Fi': 13,\n",
    " 'Sport': 15,\n",
    " 'Thriller': 7,\n",
    " 'War': 20,\n",
    " 'Western': 10})"
   ]
  },
  {
   "cell_type": "code",
   "execution_count": 7,
   "metadata": {},
   "outputs": [],
   "source": [
    "#rename columns\n",
    "imdb = imdb.rename(columns={'title director actor1 actor2': 'text', 'genre': 'genre','year':'year','rating':'rating','releasedate':'releasedate'})"
   ]
  },
  {
   "cell_type": "code",
   "execution_count": 8,
   "metadata": {},
   "outputs": [
    {
     "data": {
      "text/plain": [
       "0        12 25 2001\n",
       "1              1943\n",
       "2        12 31 1964\n",
       "3          9 1 1961\n",
       "4        10 23 1963\n",
       "5         8 10 1962\n",
       "6          5 1 1960\n",
       "7         1 27 1960\n",
       "8         12 9 1960\n",
       "9         3 17 1960\n",
       "10         8 1 1960\n",
       "11        2 10 1960\n",
       "12        8 18 1960\n",
       "13        6 16 1960\n",
       "14        4 12 1962\n",
       "15        8 22 1960\n",
       "16         3 1 1960\n",
       "17         4 1 1960\n",
       "18         4 2 1960\n",
       "19         4 1 1960\n",
       "20         7 1 1960\n",
       "21         8 3 1960\n",
       "22       10 24 1960\n",
       "23        9 15 1960\n",
       "24        8 26 1960\n",
       "25         7 1 1960\n",
       "26        9 16 1960\n",
       "27         5 1 1961\n",
       "28        11 4 1960\n",
       "29             1960\n",
       "            ...    \n",
       "41260     1 22 2018\n",
       "41261     12 1 2017\n",
       "41262    12 10 2017\n",
       "41263     12 2 2017\n",
       "41264     12 8 2017\n",
       "41265     11 2 2017\n",
       "41266    12 19 2017\n",
       "41267    11 30 2017\n",
       "41268     12 5 2017\n",
       "41269     12 5 2017\n",
       "41270     1 11 2018\n",
       "41271     11 7 2017\n",
       "41272    12 12 2017\n",
       "41273     1 20 2018\n",
       "41274    12 15 2017\n",
       "41275     11 1 2017\n",
       "41276     1 13 2018\n",
       "41277    11 11 2017\n",
       "41278      6 8 2018\n",
       "41279    12 30 2017\n",
       "41280      1 5 2018\n",
       "41281      8 7 2016\n",
       "41282     7 30 2017\n",
       "41283          2017\n",
       "41284     1 13 2018\n",
       "41285     11 3 2017\n",
       "41286    12 29 2017\n",
       "41287      1 6 2018\n",
       "41288     2 10 2018\n",
       "41289          1974\n",
       "Name: releasedate, Length: 41290, dtype: object"
      ]
     },
     "execution_count": 8,
     "metadata": {},
     "output_type": "execute_result"
    }
   ],
   "source": [
    "#fill the missing values in release date with values in year\n",
    "imdb['releasedate'].fillna(imdb['year'])"
   ]
  },
  {
   "cell_type": "code",
   "execution_count": 9,
   "metadata": {},
   "outputs": [],
   "source": [
    "from sklearn.model_selection import train_test_split\n",
    "x_train,x_test, y_train,y_test = train_test_split(imdb, imdb.genre, test_size=0.2, random_state=42 )"
   ]
  },
  {
   "cell_type": "markdown",
   "metadata": {},
   "source": [
    "## Representing text as numerical data\n",
    "Names are pre-processed to remove the space between first and last name hence we can use the default ngram to vectorize the dataset."
   ]
  },
  {
   "cell_type": "code",
   "execution_count": 10,
   "metadata": {},
   "outputs": [],
   "source": [
    "corpus_text=x_train.text"
   ]
  },
  {
   "cell_type": "code",
   "execution_count": 11,
   "metadata": {},
   "outputs": [],
   "source": [
    "#import and instantiate CountVectorizer\n",
    "from sklearn.feature_extraction.text import CountVectorizer\n",
    "vect = CountVectorizer()\n",
    "vect.fit(corpus_text)\n",
    "x_train_dtm=vect.transform(corpus_text)"
   ]
  },
  {
   "cell_type": "code",
   "execution_count": 12,
   "metadata": {},
   "outputs": [
    {
     "data": {
      "text/plain": [
       "<33032x69358 sparse matrix of type '<class 'numpy.int64'>'\n",
       "\twith 191896 stored elements in Compressed Sparse Row format>"
      ]
     },
     "execution_count": 12,
     "metadata": {},
     "output_type": "execute_result"
    }
   ],
   "source": [
    "x_train_dtm"
   ]
  },
  {
   "cell_type": "code",
   "execution_count": 13,
   "metadata": {},
   "outputs": [
    {
     "data": {
      "text/plain": [
       "scipy.sparse.csr.csr_matrix"
      ]
     },
     "execution_count": 13,
     "metadata": {},
     "output_type": "execute_result"
    }
   ],
   "source": [
    "type(x_train_dtm)"
   ]
  },
  {
   "cell_type": "code",
   "execution_count": 14,
   "metadata": {},
   "outputs": [],
   "source": [
    "corpus_text1=x_test.text\n",
    "x_test_dtm=vect.transform(corpus_text1)"
   ]
  },
  {
   "cell_type": "code",
   "execution_count": 15,
   "metadata": {},
   "outputs": [
    {
     "data": {
      "text/plain": [
       "<8258x69358 sparse matrix of type '<class 'numpy.int64'>'\n",
       "\twith 35586 stored elements in Compressed Sparse Row format>"
      ]
     },
     "execution_count": 15,
     "metadata": {},
     "output_type": "execute_result"
    }
   ],
   "source": [
    "x_test_dtm"
   ]
  },
  {
   "cell_type": "markdown",
   "metadata": {},
   "source": [
    "## Building a model using Multinomial Naive Bayes Classifier"
   ]
  },
  {
   "cell_type": "code",
   "execution_count": 16,
   "metadata": {},
   "outputs": [
    {
     "name": "stdout",
     "output_type": "stream",
     "text": [
      "CPU times: user 51.6 ms, sys: 19.4 ms, total: 71 ms\n",
      "Wall time: 70.8 ms\n"
     ]
    },
    {
     "data": {
      "text/plain": [
       "MultinomialNB(alpha=1.0, class_prior=None, fit_prior=True)"
      ]
     },
     "execution_count": 16,
     "metadata": {},
     "output_type": "execute_result"
    }
   ],
   "source": [
    "from sklearn.naive_bayes import MultinomialNB\n",
    "clf = MultinomialNB()\n",
    "#train the model\n",
    "%time clf.fit(x_train_dtm, y_train)"
   ]
  },
  {
   "cell_type": "code",
   "execution_count": 17,
   "metadata": {},
   "outputs": [],
   "source": [
    "# make class predictions for x_test_dtm\n",
    "y_pred_class = clf.predict(x_test_dtm)"
   ]
  },
  {
   "cell_type": "code",
   "execution_count": 18,
   "metadata": {},
   "outputs": [
    {
     "data": {
      "text/plain": [
       "0.4352143376120126"
      ]
     },
     "execution_count": 18,
     "metadata": {},
     "output_type": "execute_result"
    }
   ],
   "source": [
    "# calculate accuracy of class preidictions\n",
    "from sklearn import metrics\n",
    "metrics.accuracy_score(y_test, y_pred_class)"
   ]
  },
  {
   "cell_type": "markdown",
   "metadata": {},
   "source": [
    "# Comparing model\n",
    "#### Compares multinomial Naive Bayes with logistic regression"
   ]
  },
  {
   "cell_type": "code",
   "execution_count": 19,
   "metadata": {},
   "outputs": [],
   "source": [
    "from sklearn.linear_model import LogisticRegression\n",
    "logreg = LogisticRegression()"
   ]
  },
  {
   "cell_type": "code",
   "execution_count": 20,
   "metadata": {},
   "outputs": [
    {
     "name": "stdout",
     "output_type": "stream",
     "text": [
      "CPU times: user 4.19 s, sys: 16.5 ms, total: 4.21 s\n",
      "Wall time: 4.2 s\n"
     ]
    },
    {
     "data": {
      "text/plain": [
       "LogisticRegression(C=1.0, class_weight=None, dual=False, fit_intercept=True,\n",
       "          intercept_scaling=1, max_iter=100, multi_class='ovr', n_jobs=1,\n",
       "          penalty='l2', random_state=None, solver='liblinear', tol=0.0001,\n",
       "          verbose=0, warm_start=False)"
      ]
     },
     "execution_count": 20,
     "metadata": {},
     "output_type": "execute_result"
    }
   ],
   "source": [
    "# train the model using x_train_dtm\n",
    "%time logreg.fit(x_train_dtm,y_train)"
   ]
  },
  {
   "cell_type": "code",
   "execution_count": 21,
   "metadata": {},
   "outputs": [],
   "source": [
    "# make class predictions for X_test_dtm\n",
    "y_pred_class = logreg.predict(x_test_dtm)"
   ]
  },
  {
   "cell_type": "code",
   "execution_count": 22,
   "metadata": {},
   "outputs": [
    {
     "name": "stdout",
     "output_type": "stream",
     "text": [
      "Accuracy score: 0.43969484136594816\n"
     ]
    }
   ],
   "source": [
    "# calculate accuracy\n",
    "log= metrics.accuracy_score(y_test, y_pred_class)\n",
    "print(\"Accuracy score:\", log)"
   ]
  },
  {
   "cell_type": "markdown",
   "metadata": {},
   "source": [
    "Since using Logistic Regression gives a little better score, I'll do the parameter tuning using this model. Below I'm testing for a small range of regularization parameter to use in the cross-validation."
   ]
  },
  {
   "cell_type": "code",
   "execution_count": 23,
   "metadata": {},
   "outputs": [
    {
     "name": "stdout",
     "output_type": "stream",
     "text": [
      "CPU times: user 5.93 s, sys: 28.2 ms, total: 5.96 s\n",
      "Wall time: 5.97 s\n"
     ]
    },
    {
     "data": {
      "text/plain": [
       "LogisticRegression(C=5, class_weight=None, dual=False, fit_intercept=True,\n",
       "          intercept_scaling=1, max_iter=100, multi_class='ovr', n_jobs=1,\n",
       "          penalty='l2', random_state=None, solver='liblinear', tol=0.0001,\n",
       "          verbose=0, warm_start=False)"
      ]
     },
     "execution_count": 23,
     "metadata": {},
     "output_type": "execute_result"
    }
   ],
   "source": [
    "logreg = LogisticRegression(C=5)\n",
    "%time logreg.fit(x_train_dtm,y_train)"
   ]
  },
  {
   "cell_type": "code",
   "execution_count": 24,
   "metadata": {},
   "outputs": [],
   "source": [
    "# make class predictions for X_test_dtm\n",
    "y_pred_class = logreg.predict(x_test_dtm)"
   ]
  },
  {
   "cell_type": "code",
   "execution_count": 25,
   "metadata": {},
   "outputs": [
    {
     "name": "stdout",
     "output_type": "stream",
     "text": [
      "Accuracy score for using C=5 : 0.43690966335674497\n"
     ]
    }
   ],
   "source": [
    "# calculate accuracy\n",
    "logC5= metrics.accuracy_score(y_test, y_pred_class)\n",
    "print(\"Accuracy score for using C=5 :\", logC5)"
   ]
  },
  {
   "cell_type": "code",
   "execution_count": 26,
   "metadata": {},
   "outputs": [
    {
     "name": "stdout",
     "output_type": "stream",
     "text": [
      "CPU times: user 1.68 s, sys: 27.6 ms, total: 1.71 s\n",
      "Wall time: 1.73 s\n"
     ]
    },
    {
     "data": {
      "text/plain": [
       "LogisticRegression(C=0.01, class_weight=None, dual=False, fit_intercept=True,\n",
       "          intercept_scaling=1, max_iter=100, multi_class='ovr', n_jobs=1,\n",
       "          penalty='l2', random_state=None, solver='liblinear', tol=0.0001,\n",
       "          verbose=0, warm_start=False)"
      ]
     },
     "execution_count": 26,
     "metadata": {},
     "output_type": "execute_result"
    }
   ],
   "source": [
    "logreg = LogisticRegression(C=0.01)\n",
    "%time logreg.fit(x_train_dtm,y_train)"
   ]
  },
  {
   "cell_type": "code",
   "execution_count": 27,
   "metadata": {},
   "outputs": [],
   "source": [
    "# make class predictions for X_test_dtm\n",
    "y_pred_class = logreg.predict(x_test_dtm)"
   ]
  },
  {
   "cell_type": "code",
   "execution_count": 28,
   "metadata": {},
   "outputs": [
    {
     "name": "stdout",
     "output_type": "stream",
     "text": [
      "Accuracy score for using C=0.01: 0.2889319447808186\n"
     ]
    }
   ],
   "source": [
    "# calculate accuracy\n",
    "logC1= metrics.accuracy_score(y_test, y_pred_class)\n",
    "print(\"Accuracy score for using C=0.01:\", logC1)"
   ]
  },
  {
   "cell_type": "code",
   "execution_count": 29,
   "metadata": {},
   "outputs": [
    {
     "name": "stdout",
     "output_type": "stream",
     "text": [
      "Best cross-validation score: 0.44\n",
      "Best parameters: {'C': 3}\n"
     ]
    }
   ],
   "source": [
    "from sklearn.model_selection import GridSearchCV\n",
    "param_grid={'C':[2.2,2.3,3,4.8,4.9,5.2]}\n",
    "grid=GridSearchCV(LogisticRegression(),param_grid,cv=5)\n",
    "grid.fit(x_train_dtm,y_train)\n",
    "print(\"Best cross-validation score: {:.2f}\".format(grid.best_score_))\n",
    "print(\"Best parameters:\", grid.best_params_)"
   ]
  },
  {
   "cell_type": "code",
   "execution_count": 30,
   "metadata": {},
   "outputs": [
    {
     "name": "stdout",
     "output_type": "stream",
     "text": [
      "Test score:0.44\n"
     ]
    }
   ],
   "source": [
    "#assess the generalization performance of this parameter\n",
    "print(\"Test score:{:.2f}\".format(grid.score(x_test_dtm,y_test)))"
   ]
  }
 ],
 "metadata": {
  "kernelspec": {
   "display_name": "Python 3",
   "language": "python",
   "name": "python3"
  },
  "language_info": {
   "codemirror_mode": {
    "name": "ipython",
    "version": 3
   },
   "file_extension": ".py",
   "mimetype": "text/x-python",
   "name": "python",
   "nbconvert_exporter": "python",
   "pygments_lexer": "ipython3",
   "version": "3.6.4"
  }
 },
 "nbformat": 4,
 "nbformat_minor": 2
}
